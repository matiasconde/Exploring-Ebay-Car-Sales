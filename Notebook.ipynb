{
 "cells": [
  {
   "cell_type": "markdown",
   "metadata": {
    "collapsed": true
   },
   "source": [
    "### Exploring Ebay Car Sales Data\n",
    "\n",
    "#### Aim of the project: Clean the data and analyze the used car listings on ebay (a reduced dataset to make fast analysis but with valid conclusions). "
   ]
  },
  {
   "cell_type": "code",
   "execution_count": 124,
   "metadata": {
    "collapsed": false
   },
   "outputs": [],
   "source": [
    "import pandas as pd\n",
    "import numpy as np\n",
    "import matplotlib.pyplot as plt\n",
    "%matplotlib inline\n",
    "import re\n",
    "\n",
    "autos = pd.read_csv(\"autos.csv\",encoding = \"Windows-1252\")"
   ]
  },
  {
   "cell_type": "code",
   "execution_count": 125,
   "metadata": {
    "collapsed": false
   },
   "outputs": [
    {
     "data": {
      "text/html": [
       "<div>\n",
       "<style scoped>\n",
       "    .dataframe tbody tr th:only-of-type {\n",
       "        vertical-align: middle;\n",
       "    }\n",
       "\n",
       "    .dataframe tbody tr th {\n",
       "        vertical-align: top;\n",
       "    }\n",
       "\n",
       "    .dataframe thead th {\n",
       "        text-align: right;\n",
       "    }\n",
       "</style>\n",
       "<table border=\"1\" class=\"dataframe\">\n",
       "  <thead>\n",
       "    <tr style=\"text-align: right;\">\n",
       "      <th></th>\n",
       "      <th>dateCrawled</th>\n",
       "      <th>name</th>\n",
       "      <th>seller</th>\n",
       "      <th>offerType</th>\n",
       "      <th>price</th>\n",
       "      <th>abtest</th>\n",
       "      <th>vehicleType</th>\n",
       "      <th>yearOfRegistration</th>\n",
       "      <th>gearbox</th>\n",
       "      <th>powerPS</th>\n",
       "      <th>model</th>\n",
       "      <th>odometer</th>\n",
       "      <th>monthOfRegistration</th>\n",
       "      <th>fuelType</th>\n",
       "      <th>brand</th>\n",
       "      <th>notRepairedDamage</th>\n",
       "      <th>dateCreated</th>\n",
       "      <th>nrOfPictures</th>\n",
       "      <th>postalCode</th>\n",
       "      <th>lastSeen</th>\n",
       "    </tr>\n",
       "  </thead>\n",
       "  <tbody>\n",
       "    <tr>\n",
       "      <th>0</th>\n",
       "      <td>2016-03-26 17:47:46</td>\n",
       "      <td>Peugeot_807_160_NAVTECH_ON_BOARD</td>\n",
       "      <td>privat</td>\n",
       "      <td>Angebot</td>\n",
       "      <td>$5,000</td>\n",
       "      <td>control</td>\n",
       "      <td>bus</td>\n",
       "      <td>2004</td>\n",
       "      <td>manuell</td>\n",
       "      <td>158</td>\n",
       "      <td>andere</td>\n",
       "      <td>150,000km</td>\n",
       "      <td>3</td>\n",
       "      <td>lpg</td>\n",
       "      <td>peugeot</td>\n",
       "      <td>nein</td>\n",
       "      <td>2016-03-26 00:00:00</td>\n",
       "      <td>0</td>\n",
       "      <td>79588</td>\n",
       "      <td>2016-04-06 06:45:54</td>\n",
       "    </tr>\n",
       "    <tr>\n",
       "      <th>1</th>\n",
       "      <td>2016-04-04 13:38:56</td>\n",
       "      <td>BMW_740i_4_4_Liter_HAMANN_UMBAU_Mega_Optik</td>\n",
       "      <td>privat</td>\n",
       "      <td>Angebot</td>\n",
       "      <td>$8,500</td>\n",
       "      <td>control</td>\n",
       "      <td>limousine</td>\n",
       "      <td>1997</td>\n",
       "      <td>automatik</td>\n",
       "      <td>286</td>\n",
       "      <td>7er</td>\n",
       "      <td>150,000km</td>\n",
       "      <td>6</td>\n",
       "      <td>benzin</td>\n",
       "      <td>bmw</td>\n",
       "      <td>nein</td>\n",
       "      <td>2016-04-04 00:00:00</td>\n",
       "      <td>0</td>\n",
       "      <td>71034</td>\n",
       "      <td>2016-04-06 14:45:08</td>\n",
       "    </tr>\n",
       "    <tr>\n",
       "      <th>2</th>\n",
       "      <td>2016-03-26 18:57:24</td>\n",
       "      <td>Volkswagen_Golf_1.6_United</td>\n",
       "      <td>privat</td>\n",
       "      <td>Angebot</td>\n",
       "      <td>$8,990</td>\n",
       "      <td>test</td>\n",
       "      <td>limousine</td>\n",
       "      <td>2009</td>\n",
       "      <td>manuell</td>\n",
       "      <td>102</td>\n",
       "      <td>golf</td>\n",
       "      <td>70,000km</td>\n",
       "      <td>7</td>\n",
       "      <td>benzin</td>\n",
       "      <td>volkswagen</td>\n",
       "      <td>nein</td>\n",
       "      <td>2016-03-26 00:00:00</td>\n",
       "      <td>0</td>\n",
       "      <td>35394</td>\n",
       "      <td>2016-04-06 20:15:37</td>\n",
       "    </tr>\n",
       "    <tr>\n",
       "      <th>3</th>\n",
       "      <td>2016-03-12 16:58:10</td>\n",
       "      <td>Smart_smart_fortwo_coupe_softouch/F1/Klima/Pan...</td>\n",
       "      <td>privat</td>\n",
       "      <td>Angebot</td>\n",
       "      <td>$4,350</td>\n",
       "      <td>control</td>\n",
       "      <td>kleinwagen</td>\n",
       "      <td>2007</td>\n",
       "      <td>automatik</td>\n",
       "      <td>71</td>\n",
       "      <td>fortwo</td>\n",
       "      <td>70,000km</td>\n",
       "      <td>6</td>\n",
       "      <td>benzin</td>\n",
       "      <td>smart</td>\n",
       "      <td>nein</td>\n",
       "      <td>2016-03-12 00:00:00</td>\n",
       "      <td>0</td>\n",
       "      <td>33729</td>\n",
       "      <td>2016-03-15 03:16:28</td>\n",
       "    </tr>\n",
       "    <tr>\n",
       "      <th>4</th>\n",
       "      <td>2016-04-01 14:38:50</td>\n",
       "      <td>Ford_Focus_1_6_Benzin_TÜV_neu_ist_sehr_gepfleg...</td>\n",
       "      <td>privat</td>\n",
       "      <td>Angebot</td>\n",
       "      <td>$1,350</td>\n",
       "      <td>test</td>\n",
       "      <td>kombi</td>\n",
       "      <td>2003</td>\n",
       "      <td>manuell</td>\n",
       "      <td>0</td>\n",
       "      <td>focus</td>\n",
       "      <td>150,000km</td>\n",
       "      <td>7</td>\n",
       "      <td>benzin</td>\n",
       "      <td>ford</td>\n",
       "      <td>nein</td>\n",
       "      <td>2016-04-01 00:00:00</td>\n",
       "      <td>0</td>\n",
       "      <td>39218</td>\n",
       "      <td>2016-04-01 14:38:50</td>\n",
       "    </tr>\n",
       "  </tbody>\n",
       "</table>\n",
       "</div>"
      ],
      "text/plain": [
       "           dateCrawled                                               name  \\\n",
       "0  2016-03-26 17:47:46                   Peugeot_807_160_NAVTECH_ON_BOARD   \n",
       "1  2016-04-04 13:38:56         BMW_740i_4_4_Liter_HAMANN_UMBAU_Mega_Optik   \n",
       "2  2016-03-26 18:57:24                         Volkswagen_Golf_1.6_United   \n",
       "3  2016-03-12 16:58:10  Smart_smart_fortwo_coupe_softouch/F1/Klima/Pan...   \n",
       "4  2016-04-01 14:38:50  Ford_Focus_1_6_Benzin_TÜV_neu_ist_sehr_gepfleg...   \n",
       "\n",
       "   seller offerType   price   abtest vehicleType  yearOfRegistration  \\\n",
       "0  privat   Angebot  $5,000  control         bus                2004   \n",
       "1  privat   Angebot  $8,500  control   limousine                1997   \n",
       "2  privat   Angebot  $8,990     test   limousine                2009   \n",
       "3  privat   Angebot  $4,350  control  kleinwagen                2007   \n",
       "4  privat   Angebot  $1,350     test       kombi                2003   \n",
       "\n",
       "     gearbox  powerPS   model   odometer  monthOfRegistration fuelType  \\\n",
       "0    manuell      158  andere  150,000km                    3      lpg   \n",
       "1  automatik      286     7er  150,000km                    6   benzin   \n",
       "2    manuell      102    golf   70,000km                    7   benzin   \n",
       "3  automatik       71  fortwo   70,000km                    6   benzin   \n",
       "4    manuell        0   focus  150,000km                    7   benzin   \n",
       "\n",
       "        brand notRepairedDamage          dateCreated  nrOfPictures  \\\n",
       "0     peugeot              nein  2016-03-26 00:00:00             0   \n",
       "1         bmw              nein  2016-04-04 00:00:00             0   \n",
       "2  volkswagen              nein  2016-03-26 00:00:00             0   \n",
       "3       smart              nein  2016-03-12 00:00:00             0   \n",
       "4        ford              nein  2016-04-01 00:00:00             0   \n",
       "\n",
       "   postalCode             lastSeen  \n",
       "0       79588  2016-04-06 06:45:54  \n",
       "1       71034  2016-04-06 14:45:08  \n",
       "2       35394  2016-04-06 20:15:37  \n",
       "3       33729  2016-03-15 03:16:28  \n",
       "4       39218  2016-04-01 14:38:50  "
      ]
     },
     "execution_count": 125,
     "metadata": {},
     "output_type": "execute_result"
    }
   ],
   "source": [
    "autos.head()"
   ]
  },
  {
   "cell_type": "code",
   "execution_count": 126,
   "metadata": {
    "collapsed": false
   },
   "outputs": [
    {
     "name": "stdout",
     "output_type": "stream",
     "text": [
      "<class 'pandas.core.frame.DataFrame'>\n",
      "RangeIndex: 50000 entries, 0 to 49999\n",
      "Data columns (total 20 columns):\n",
      "dateCrawled            50000 non-null object\n",
      "name                   50000 non-null object\n",
      "seller                 50000 non-null object\n",
      "offerType              50000 non-null object\n",
      "price                  50000 non-null object\n",
      "abtest                 50000 non-null object\n",
      "vehicleType            44905 non-null object\n",
      "yearOfRegistration     50000 non-null int64\n",
      "gearbox                47320 non-null object\n",
      "powerPS                50000 non-null int64\n",
      "model                  47242 non-null object\n",
      "odometer               50000 non-null object\n",
      "monthOfRegistration    50000 non-null int64\n",
      "fuelType               45518 non-null object\n",
      "brand                  50000 non-null object\n",
      "notRepairedDamage      40171 non-null object\n",
      "dateCreated            50000 non-null object\n",
      "nrOfPictures           50000 non-null int64\n",
      "postalCode             50000 non-null int64\n",
      "lastSeen               50000 non-null object\n",
      "dtypes: int64(5), object(15)\n",
      "memory usage: 7.6+ MB\n"
     ]
    }
   ],
   "source": [
    "autos.info()"
   ]
  },
  {
   "cell_type": "code",
   "execution_count": 127,
   "metadata": {
    "collapsed": false
   },
   "outputs": [
    {
     "data": {
      "text/plain": [
       "(50000, 20)"
      ]
     },
     "execution_count": 127,
     "metadata": {},
     "output_type": "execute_result"
    }
   ],
   "source": [
    "autos.shape"
   ]
  },
  {
   "cell_type": "markdown",
   "metadata": {},
   "source": [
    "##### FIrst insights: \n",
    "\n",
    "- The columns \"fuelType\", \"notRepairedDamage\", \"model\", \"gearbox\" and \"vehicleType\" have null values (all of them less than 20% of null values). \n",
    "\n",
    "- The date columns \"lastSeen\", \"dateCreated\" and \"dateCrawled\" are object types but could be datetime object.\n",
    "\n",
    "- The \"odometer\" and \"price\" columns are object type but could be numerical. \n",
    "\n",
    "- The column names are in CamelCase, but is preferred to be snake_case"
   ]
  },
  {
   "cell_type": "code",
   "execution_count": 128,
   "metadata": {
    "collapsed": false
   },
   "outputs": [],
   "source": [
    "old_columns_names = autos.columns"
   ]
  },
  {
   "cell_type": "code",
   "execution_count": 129,
   "metadata": {
    "collapsed": false
   },
   "outputs": [
    {
     "name": "stdout",
     "output_type": "stream",
     "text": [
      "Index(['date_crawled', 'name', 'seller', 'offer_type', 'price', 'abtest',\n",
      "       'vehicle_type', 'year_of_registration', 'gearbox', 'power_p_s', 'model',\n",
      "       'odometer', 'month_of_registration', 'fuel_type', 'brand',\n",
      "       'not_repaired_damage', 'date_created', 'nr_of_pictures', 'postal_code',\n",
      "       'last_seen'],\n",
      "      dtype='object')\n"
     ]
    }
   ],
   "source": [
    "def camel_to_snake_case(word):\n",
    "# Takes in a word in CamelCase\n",
    "# and return the same word as snake_case\n",
    "    from string import ascii_letters\n",
    "    mayúsculas = ascii_letters[-26:]\n",
    "    minúsculas = ascii_letters[:26]\n",
    "    new_word = word\n",
    "    list_letter_index = []\n",
    "    for index,letter in enumerate(new_word):\n",
    "        if letter in mayúsculas:\n",
    "            list_letter_index.append((index,letter))\n",
    "            # print(index,letter)\n",
    "    # print(list_letter_index)\n",
    "    cont = 0\n",
    "    for i in list_letter_index:   \n",
    "        new_word = new_word[:i[0]+cont]+\"_\"+i[1].lower()+new_word[i[0]+cont+1:]\n",
    "        cont += 1\n",
    "    return new_word\n",
    "\n",
    "new_columns_names = old_columns_names\n",
    "\n",
    "for i in range(len(old_columns_names)):\n",
    "    old_column_name = old_columns_names[i]\n",
    "    new_column_name = camel_to_snake_case(old_column_name)\n",
    "    new_columns_names = new_columns_names.str.replace(old_column_name,new_column_name)\n",
    "\n",
    "print(new_columns_names)"
   ]
  },
  {
   "cell_type": "code",
   "execution_count": 130,
   "metadata": {
    "collapsed": true
   },
   "outputs": [],
   "source": [
    "final_new_columns_names = new_columns_names.str.replace(\"power_p_s\",\"power_ps\")"
   ]
  },
  {
   "cell_type": "code",
   "execution_count": 131,
   "metadata": {
    "collapsed": false
   },
   "outputs": [
    {
     "name": "stdout",
     "output_type": "stream",
     "text": [
      "Index(['date_crawled', 'name', 'seller', 'offer_type', 'price', 'abtest',\n",
      "       'vehicle_type', 'year_of_registration', 'gearbox', 'power_ps', 'model',\n",
      "       'odometer', 'month_of_registration', 'fuel_type', 'brand',\n",
      "       'not_repaired_damage', 'date_created', 'nr_of_pictures', 'postal_code',\n",
      "       'last_seen'],\n",
      "      dtype='object')\n"
     ]
    }
   ],
   "source": [
    "print(final_new_columns_names)"
   ]
  },
  {
   "cell_type": "code",
   "execution_count": 132,
   "metadata": {
    "collapsed": true
   },
   "outputs": [],
   "source": [
    "autos.columns = final_new_columns_names"
   ]
  },
  {
   "cell_type": "code",
   "execution_count": 133,
   "metadata": {
    "collapsed": false
   },
   "outputs": [
    {
     "data": {
      "text/plain": [
       "Index(['date_crawled', 'name', 'seller', 'offer_type', 'price', 'abtest',\n",
       "       'vehicle_type', 'year_of_registration', 'gearbox', 'power_ps', 'model',\n",
       "       'odometer', 'month_of_registration', 'fuel_type', 'brand',\n",
       "       'not_repaired_damage', 'date_created', 'nr_of_pictures', 'postal_code',\n",
       "       'last_seen'],\n",
       "      dtype='object')"
      ]
     },
     "execution_count": 133,
     "metadata": {},
     "output_type": "execute_result"
    }
   ],
   "source": [
    "autos.columns"
   ]
  },
  {
   "cell_type": "code",
   "execution_count": 134,
   "metadata": {
    "collapsed": false
   },
   "outputs": [
    {
     "data": {
      "text/html": [
       "<div>\n",
       "<style scoped>\n",
       "    .dataframe tbody tr th:only-of-type {\n",
       "        vertical-align: middle;\n",
       "    }\n",
       "\n",
       "    .dataframe tbody tr th {\n",
       "        vertical-align: top;\n",
       "    }\n",
       "\n",
       "    .dataframe thead th {\n",
       "        text-align: right;\n",
       "    }\n",
       "</style>\n",
       "<table border=\"1\" class=\"dataframe\">\n",
       "  <thead>\n",
       "    <tr style=\"text-align: right;\">\n",
       "      <th></th>\n",
       "      <th>date_crawled</th>\n",
       "      <th>name</th>\n",
       "      <th>seller</th>\n",
       "      <th>offer_type</th>\n",
       "      <th>price</th>\n",
       "      <th>abtest</th>\n",
       "      <th>vehicle_type</th>\n",
       "      <th>year_of_registration</th>\n",
       "      <th>gearbox</th>\n",
       "      <th>power_ps</th>\n",
       "      <th>model</th>\n",
       "      <th>odometer</th>\n",
       "      <th>month_of_registration</th>\n",
       "      <th>fuel_type</th>\n",
       "      <th>brand</th>\n",
       "      <th>not_repaired_damage</th>\n",
       "      <th>date_created</th>\n",
       "      <th>nr_of_pictures</th>\n",
       "      <th>postal_code</th>\n",
       "      <th>last_seen</th>\n",
       "    </tr>\n",
       "  </thead>\n",
       "  <tbody>\n",
       "    <tr>\n",
       "      <th>0</th>\n",
       "      <td>2016-03-26 17:47:46</td>\n",
       "      <td>Peugeot_807_160_NAVTECH_ON_BOARD</td>\n",
       "      <td>privat</td>\n",
       "      <td>Angebot</td>\n",
       "      <td>$5,000</td>\n",
       "      <td>control</td>\n",
       "      <td>bus</td>\n",
       "      <td>2004</td>\n",
       "      <td>manuell</td>\n",
       "      <td>158</td>\n",
       "      <td>andere</td>\n",
       "      <td>150,000km</td>\n",
       "      <td>3</td>\n",
       "      <td>lpg</td>\n",
       "      <td>peugeot</td>\n",
       "      <td>nein</td>\n",
       "      <td>2016-03-26 00:00:00</td>\n",
       "      <td>0</td>\n",
       "      <td>79588</td>\n",
       "      <td>2016-04-06 06:45:54</td>\n",
       "    </tr>\n",
       "    <tr>\n",
       "      <th>1</th>\n",
       "      <td>2016-04-04 13:38:56</td>\n",
       "      <td>BMW_740i_4_4_Liter_HAMANN_UMBAU_Mega_Optik</td>\n",
       "      <td>privat</td>\n",
       "      <td>Angebot</td>\n",
       "      <td>$8,500</td>\n",
       "      <td>control</td>\n",
       "      <td>limousine</td>\n",
       "      <td>1997</td>\n",
       "      <td>automatik</td>\n",
       "      <td>286</td>\n",
       "      <td>7er</td>\n",
       "      <td>150,000km</td>\n",
       "      <td>6</td>\n",
       "      <td>benzin</td>\n",
       "      <td>bmw</td>\n",
       "      <td>nein</td>\n",
       "      <td>2016-04-04 00:00:00</td>\n",
       "      <td>0</td>\n",
       "      <td>71034</td>\n",
       "      <td>2016-04-06 14:45:08</td>\n",
       "    </tr>\n",
       "    <tr>\n",
       "      <th>2</th>\n",
       "      <td>2016-03-26 18:57:24</td>\n",
       "      <td>Volkswagen_Golf_1.6_United</td>\n",
       "      <td>privat</td>\n",
       "      <td>Angebot</td>\n",
       "      <td>$8,990</td>\n",
       "      <td>test</td>\n",
       "      <td>limousine</td>\n",
       "      <td>2009</td>\n",
       "      <td>manuell</td>\n",
       "      <td>102</td>\n",
       "      <td>golf</td>\n",
       "      <td>70,000km</td>\n",
       "      <td>7</td>\n",
       "      <td>benzin</td>\n",
       "      <td>volkswagen</td>\n",
       "      <td>nein</td>\n",
       "      <td>2016-03-26 00:00:00</td>\n",
       "      <td>0</td>\n",
       "      <td>35394</td>\n",
       "      <td>2016-04-06 20:15:37</td>\n",
       "    </tr>\n",
       "    <tr>\n",
       "      <th>3</th>\n",
       "      <td>2016-03-12 16:58:10</td>\n",
       "      <td>Smart_smart_fortwo_coupe_softouch/F1/Klima/Pan...</td>\n",
       "      <td>privat</td>\n",
       "      <td>Angebot</td>\n",
       "      <td>$4,350</td>\n",
       "      <td>control</td>\n",
       "      <td>kleinwagen</td>\n",
       "      <td>2007</td>\n",
       "      <td>automatik</td>\n",
       "      <td>71</td>\n",
       "      <td>fortwo</td>\n",
       "      <td>70,000km</td>\n",
       "      <td>6</td>\n",
       "      <td>benzin</td>\n",
       "      <td>smart</td>\n",
       "      <td>nein</td>\n",
       "      <td>2016-03-12 00:00:00</td>\n",
       "      <td>0</td>\n",
       "      <td>33729</td>\n",
       "      <td>2016-03-15 03:16:28</td>\n",
       "    </tr>\n",
       "    <tr>\n",
       "      <th>4</th>\n",
       "      <td>2016-04-01 14:38:50</td>\n",
       "      <td>Ford_Focus_1_6_Benzin_TÜV_neu_ist_sehr_gepfleg...</td>\n",
       "      <td>privat</td>\n",
       "      <td>Angebot</td>\n",
       "      <td>$1,350</td>\n",
       "      <td>test</td>\n",
       "      <td>kombi</td>\n",
       "      <td>2003</td>\n",
       "      <td>manuell</td>\n",
       "      <td>0</td>\n",
       "      <td>focus</td>\n",
       "      <td>150,000km</td>\n",
       "      <td>7</td>\n",
       "      <td>benzin</td>\n",
       "      <td>ford</td>\n",
       "      <td>nein</td>\n",
       "      <td>2016-04-01 00:00:00</td>\n",
       "      <td>0</td>\n",
       "      <td>39218</td>\n",
       "      <td>2016-04-01 14:38:50</td>\n",
       "    </tr>\n",
       "  </tbody>\n",
       "</table>\n",
       "</div>"
      ],
      "text/plain": [
       "          date_crawled                                               name  \\\n",
       "0  2016-03-26 17:47:46                   Peugeot_807_160_NAVTECH_ON_BOARD   \n",
       "1  2016-04-04 13:38:56         BMW_740i_4_4_Liter_HAMANN_UMBAU_Mega_Optik   \n",
       "2  2016-03-26 18:57:24                         Volkswagen_Golf_1.6_United   \n",
       "3  2016-03-12 16:58:10  Smart_smart_fortwo_coupe_softouch/F1/Klima/Pan...   \n",
       "4  2016-04-01 14:38:50  Ford_Focus_1_6_Benzin_TÜV_neu_ist_sehr_gepfleg...   \n",
       "\n",
       "   seller offer_type   price   abtest vehicle_type  year_of_registration  \\\n",
       "0  privat    Angebot  $5,000  control          bus                  2004   \n",
       "1  privat    Angebot  $8,500  control    limousine                  1997   \n",
       "2  privat    Angebot  $8,990     test    limousine                  2009   \n",
       "3  privat    Angebot  $4,350  control   kleinwagen                  2007   \n",
       "4  privat    Angebot  $1,350     test        kombi                  2003   \n",
       "\n",
       "     gearbox  power_ps   model   odometer  month_of_registration fuel_type  \\\n",
       "0    manuell       158  andere  150,000km                      3       lpg   \n",
       "1  automatik       286     7er  150,000km                      6    benzin   \n",
       "2    manuell       102    golf   70,000km                      7    benzin   \n",
       "3  automatik        71  fortwo   70,000km                      6    benzin   \n",
       "4    manuell         0   focus  150,000km                      7    benzin   \n",
       "\n",
       "        brand not_repaired_damage         date_created  nr_of_pictures  \\\n",
       "0     peugeot                nein  2016-03-26 00:00:00               0   \n",
       "1         bmw                nein  2016-04-04 00:00:00               0   \n",
       "2  volkswagen                nein  2016-03-26 00:00:00               0   \n",
       "3       smart                nein  2016-03-12 00:00:00               0   \n",
       "4        ford                nein  2016-04-01 00:00:00               0   \n",
       "\n",
       "   postal_code            last_seen  \n",
       "0        79588  2016-04-06 06:45:54  \n",
       "1        71034  2016-04-06 14:45:08  \n",
       "2        35394  2016-04-06 20:15:37  \n",
       "3        33729  2016-03-15 03:16:28  \n",
       "4        39218  2016-04-01 14:38:50  "
      ]
     },
     "execution_count": 134,
     "metadata": {},
     "output_type": "execute_result"
    }
   ],
   "source": [
    "autos.head()"
   ]
  },
  {
   "cell_type": "code",
   "execution_count": 135,
   "metadata": {
    "collapsed": false
   },
   "outputs": [
    {
     "data": {
      "text/html": [
       "<div>\n",
       "<style scoped>\n",
       "    .dataframe tbody tr th:only-of-type {\n",
       "        vertical-align: middle;\n",
       "    }\n",
       "\n",
       "    .dataframe tbody tr th {\n",
       "        vertical-align: top;\n",
       "    }\n",
       "\n",
       "    .dataframe thead th {\n",
       "        text-align: right;\n",
       "    }\n",
       "</style>\n",
       "<table border=\"1\" class=\"dataframe\">\n",
       "  <thead>\n",
       "    <tr style=\"text-align: right;\">\n",
       "      <th></th>\n",
       "      <th>date_crawled</th>\n",
       "      <th>name</th>\n",
       "      <th>seller</th>\n",
       "      <th>offer_type</th>\n",
       "      <th>price</th>\n",
       "      <th>abtest</th>\n",
       "      <th>vehicle_type</th>\n",
       "      <th>year_of_registration</th>\n",
       "      <th>gearbox</th>\n",
       "      <th>power_ps</th>\n",
       "      <th>model</th>\n",
       "      <th>odometer</th>\n",
       "      <th>month_of_registration</th>\n",
       "      <th>fuel_type</th>\n",
       "      <th>brand</th>\n",
       "      <th>not_repaired_damage</th>\n",
       "      <th>date_created</th>\n",
       "      <th>nr_of_pictures</th>\n",
       "      <th>postal_code</th>\n",
       "      <th>last_seen</th>\n",
       "    </tr>\n",
       "  </thead>\n",
       "  <tbody>\n",
       "    <tr>\n",
       "      <th>count</th>\n",
       "      <td>50000</td>\n",
       "      <td>50000</td>\n",
       "      <td>50000</td>\n",
       "      <td>50000</td>\n",
       "      <td>50000</td>\n",
       "      <td>50000</td>\n",
       "      <td>44905</td>\n",
       "      <td>50000.000000</td>\n",
       "      <td>47320</td>\n",
       "      <td>50000.000000</td>\n",
       "      <td>47242</td>\n",
       "      <td>50000</td>\n",
       "      <td>50000.000000</td>\n",
       "      <td>45518</td>\n",
       "      <td>50000</td>\n",
       "      <td>40171</td>\n",
       "      <td>50000</td>\n",
       "      <td>50000.0</td>\n",
       "      <td>50000.000000</td>\n",
       "      <td>50000</td>\n",
       "    </tr>\n",
       "    <tr>\n",
       "      <th>unique</th>\n",
       "      <td>48213</td>\n",
       "      <td>38754</td>\n",
       "      <td>2</td>\n",
       "      <td>2</td>\n",
       "      <td>2357</td>\n",
       "      <td>2</td>\n",
       "      <td>8</td>\n",
       "      <td>NaN</td>\n",
       "      <td>2</td>\n",
       "      <td>NaN</td>\n",
       "      <td>245</td>\n",
       "      <td>13</td>\n",
       "      <td>NaN</td>\n",
       "      <td>7</td>\n",
       "      <td>40</td>\n",
       "      <td>2</td>\n",
       "      <td>76</td>\n",
       "      <td>NaN</td>\n",
       "      <td>NaN</td>\n",
       "      <td>39481</td>\n",
       "    </tr>\n",
       "    <tr>\n",
       "      <th>top</th>\n",
       "      <td>2016-03-23 19:38:20</td>\n",
       "      <td>Ford_Fiesta</td>\n",
       "      <td>privat</td>\n",
       "      <td>Angebot</td>\n",
       "      <td>$0</td>\n",
       "      <td>test</td>\n",
       "      <td>limousine</td>\n",
       "      <td>NaN</td>\n",
       "      <td>manuell</td>\n",
       "      <td>NaN</td>\n",
       "      <td>golf</td>\n",
       "      <td>150,000km</td>\n",
       "      <td>NaN</td>\n",
       "      <td>benzin</td>\n",
       "      <td>volkswagen</td>\n",
       "      <td>nein</td>\n",
       "      <td>2016-04-03 00:00:00</td>\n",
       "      <td>NaN</td>\n",
       "      <td>NaN</td>\n",
       "      <td>2016-04-07 06:17:27</td>\n",
       "    </tr>\n",
       "    <tr>\n",
       "      <th>freq</th>\n",
       "      <td>3</td>\n",
       "      <td>78</td>\n",
       "      <td>49999</td>\n",
       "      <td>49999</td>\n",
       "      <td>1421</td>\n",
       "      <td>25756</td>\n",
       "      <td>12859</td>\n",
       "      <td>NaN</td>\n",
       "      <td>36993</td>\n",
       "      <td>NaN</td>\n",
       "      <td>4024</td>\n",
       "      <td>32424</td>\n",
       "      <td>NaN</td>\n",
       "      <td>30107</td>\n",
       "      <td>10687</td>\n",
       "      <td>35232</td>\n",
       "      <td>1946</td>\n",
       "      <td>NaN</td>\n",
       "      <td>NaN</td>\n",
       "      <td>8</td>\n",
       "    </tr>\n",
       "    <tr>\n",
       "      <th>mean</th>\n",
       "      <td>NaN</td>\n",
       "      <td>NaN</td>\n",
       "      <td>NaN</td>\n",
       "      <td>NaN</td>\n",
       "      <td>NaN</td>\n",
       "      <td>NaN</td>\n",
       "      <td>NaN</td>\n",
       "      <td>2005.073280</td>\n",
       "      <td>NaN</td>\n",
       "      <td>116.355920</td>\n",
       "      <td>NaN</td>\n",
       "      <td>NaN</td>\n",
       "      <td>5.723360</td>\n",
       "      <td>NaN</td>\n",
       "      <td>NaN</td>\n",
       "      <td>NaN</td>\n",
       "      <td>NaN</td>\n",
       "      <td>0.0</td>\n",
       "      <td>50813.627300</td>\n",
       "      <td>NaN</td>\n",
       "    </tr>\n",
       "    <tr>\n",
       "      <th>std</th>\n",
       "      <td>NaN</td>\n",
       "      <td>NaN</td>\n",
       "      <td>NaN</td>\n",
       "      <td>NaN</td>\n",
       "      <td>NaN</td>\n",
       "      <td>NaN</td>\n",
       "      <td>NaN</td>\n",
       "      <td>105.712813</td>\n",
       "      <td>NaN</td>\n",
       "      <td>209.216627</td>\n",
       "      <td>NaN</td>\n",
       "      <td>NaN</td>\n",
       "      <td>3.711984</td>\n",
       "      <td>NaN</td>\n",
       "      <td>NaN</td>\n",
       "      <td>NaN</td>\n",
       "      <td>NaN</td>\n",
       "      <td>0.0</td>\n",
       "      <td>25779.747957</td>\n",
       "      <td>NaN</td>\n",
       "    </tr>\n",
       "    <tr>\n",
       "      <th>min</th>\n",
       "      <td>NaN</td>\n",
       "      <td>NaN</td>\n",
       "      <td>NaN</td>\n",
       "      <td>NaN</td>\n",
       "      <td>NaN</td>\n",
       "      <td>NaN</td>\n",
       "      <td>NaN</td>\n",
       "      <td>1000.000000</td>\n",
       "      <td>NaN</td>\n",
       "      <td>0.000000</td>\n",
       "      <td>NaN</td>\n",
       "      <td>NaN</td>\n",
       "      <td>0.000000</td>\n",
       "      <td>NaN</td>\n",
       "      <td>NaN</td>\n",
       "      <td>NaN</td>\n",
       "      <td>NaN</td>\n",
       "      <td>0.0</td>\n",
       "      <td>1067.000000</td>\n",
       "      <td>NaN</td>\n",
       "    </tr>\n",
       "    <tr>\n",
       "      <th>25%</th>\n",
       "      <td>NaN</td>\n",
       "      <td>NaN</td>\n",
       "      <td>NaN</td>\n",
       "      <td>NaN</td>\n",
       "      <td>NaN</td>\n",
       "      <td>NaN</td>\n",
       "      <td>NaN</td>\n",
       "      <td>1999.000000</td>\n",
       "      <td>NaN</td>\n",
       "      <td>70.000000</td>\n",
       "      <td>NaN</td>\n",
       "      <td>NaN</td>\n",
       "      <td>3.000000</td>\n",
       "      <td>NaN</td>\n",
       "      <td>NaN</td>\n",
       "      <td>NaN</td>\n",
       "      <td>NaN</td>\n",
       "      <td>0.0</td>\n",
       "      <td>30451.000000</td>\n",
       "      <td>NaN</td>\n",
       "    </tr>\n",
       "    <tr>\n",
       "      <th>50%</th>\n",
       "      <td>NaN</td>\n",
       "      <td>NaN</td>\n",
       "      <td>NaN</td>\n",
       "      <td>NaN</td>\n",
       "      <td>NaN</td>\n",
       "      <td>NaN</td>\n",
       "      <td>NaN</td>\n",
       "      <td>2003.000000</td>\n",
       "      <td>NaN</td>\n",
       "      <td>105.000000</td>\n",
       "      <td>NaN</td>\n",
       "      <td>NaN</td>\n",
       "      <td>6.000000</td>\n",
       "      <td>NaN</td>\n",
       "      <td>NaN</td>\n",
       "      <td>NaN</td>\n",
       "      <td>NaN</td>\n",
       "      <td>0.0</td>\n",
       "      <td>49577.000000</td>\n",
       "      <td>NaN</td>\n",
       "    </tr>\n",
       "    <tr>\n",
       "      <th>75%</th>\n",
       "      <td>NaN</td>\n",
       "      <td>NaN</td>\n",
       "      <td>NaN</td>\n",
       "      <td>NaN</td>\n",
       "      <td>NaN</td>\n",
       "      <td>NaN</td>\n",
       "      <td>NaN</td>\n",
       "      <td>2008.000000</td>\n",
       "      <td>NaN</td>\n",
       "      <td>150.000000</td>\n",
       "      <td>NaN</td>\n",
       "      <td>NaN</td>\n",
       "      <td>9.000000</td>\n",
       "      <td>NaN</td>\n",
       "      <td>NaN</td>\n",
       "      <td>NaN</td>\n",
       "      <td>NaN</td>\n",
       "      <td>0.0</td>\n",
       "      <td>71540.000000</td>\n",
       "      <td>NaN</td>\n",
       "    </tr>\n",
       "    <tr>\n",
       "      <th>max</th>\n",
       "      <td>NaN</td>\n",
       "      <td>NaN</td>\n",
       "      <td>NaN</td>\n",
       "      <td>NaN</td>\n",
       "      <td>NaN</td>\n",
       "      <td>NaN</td>\n",
       "      <td>NaN</td>\n",
       "      <td>9999.000000</td>\n",
       "      <td>NaN</td>\n",
       "      <td>17700.000000</td>\n",
       "      <td>NaN</td>\n",
       "      <td>NaN</td>\n",
       "      <td>12.000000</td>\n",
       "      <td>NaN</td>\n",
       "      <td>NaN</td>\n",
       "      <td>NaN</td>\n",
       "      <td>NaN</td>\n",
       "      <td>0.0</td>\n",
       "      <td>99998.000000</td>\n",
       "      <td>NaN</td>\n",
       "    </tr>\n",
       "  </tbody>\n",
       "</table>\n",
       "</div>"
      ],
      "text/plain": [
       "               date_crawled         name  seller offer_type  price abtest  \\\n",
       "count                 50000        50000   50000      50000  50000  50000   \n",
       "unique                48213        38754       2          2   2357      2   \n",
       "top     2016-03-23 19:38:20  Ford_Fiesta  privat    Angebot     $0   test   \n",
       "freq                      3           78   49999      49999   1421  25756   \n",
       "mean                    NaN          NaN     NaN        NaN    NaN    NaN   \n",
       "std                     NaN          NaN     NaN        NaN    NaN    NaN   \n",
       "min                     NaN          NaN     NaN        NaN    NaN    NaN   \n",
       "25%                     NaN          NaN     NaN        NaN    NaN    NaN   \n",
       "50%                     NaN          NaN     NaN        NaN    NaN    NaN   \n",
       "75%                     NaN          NaN     NaN        NaN    NaN    NaN   \n",
       "max                     NaN          NaN     NaN        NaN    NaN    NaN   \n",
       "\n",
       "       vehicle_type  year_of_registration  gearbox      power_ps  model  \\\n",
       "count         44905          50000.000000    47320  50000.000000  47242   \n",
       "unique            8                   NaN        2           NaN    245   \n",
       "top       limousine                   NaN  manuell           NaN   golf   \n",
       "freq          12859                   NaN    36993           NaN   4024   \n",
       "mean            NaN           2005.073280      NaN    116.355920    NaN   \n",
       "std             NaN            105.712813      NaN    209.216627    NaN   \n",
       "min             NaN           1000.000000      NaN      0.000000    NaN   \n",
       "25%             NaN           1999.000000      NaN     70.000000    NaN   \n",
       "50%             NaN           2003.000000      NaN    105.000000    NaN   \n",
       "75%             NaN           2008.000000      NaN    150.000000    NaN   \n",
       "max             NaN           9999.000000      NaN  17700.000000    NaN   \n",
       "\n",
       "         odometer  month_of_registration fuel_type       brand  \\\n",
       "count       50000           50000.000000     45518       50000   \n",
       "unique         13                    NaN         7          40   \n",
       "top     150,000km                    NaN    benzin  volkswagen   \n",
       "freq        32424                    NaN     30107       10687   \n",
       "mean          NaN               5.723360       NaN         NaN   \n",
       "std           NaN               3.711984       NaN         NaN   \n",
       "min           NaN               0.000000       NaN         NaN   \n",
       "25%           NaN               3.000000       NaN         NaN   \n",
       "50%           NaN               6.000000       NaN         NaN   \n",
       "75%           NaN               9.000000       NaN         NaN   \n",
       "max           NaN              12.000000       NaN         NaN   \n",
       "\n",
       "       not_repaired_damage         date_created  nr_of_pictures   postal_code  \\\n",
       "count                40171                50000         50000.0  50000.000000   \n",
       "unique                   2                   76             NaN           NaN   \n",
       "top                   nein  2016-04-03 00:00:00             NaN           NaN   \n",
       "freq                 35232                 1946             NaN           NaN   \n",
       "mean                   NaN                  NaN             0.0  50813.627300   \n",
       "std                    NaN                  NaN             0.0  25779.747957   \n",
       "min                    NaN                  NaN             0.0   1067.000000   \n",
       "25%                    NaN                  NaN             0.0  30451.000000   \n",
       "50%                    NaN                  NaN             0.0  49577.000000   \n",
       "75%                    NaN                  NaN             0.0  71540.000000   \n",
       "max                    NaN                  NaN             0.0  99998.000000   \n",
       "\n",
       "                  last_seen  \n",
       "count                 50000  \n",
       "unique                39481  \n",
       "top     2016-04-07 06:17:27  \n",
       "freq                      8  \n",
       "mean                    NaN  \n",
       "std                     NaN  \n",
       "min                     NaN  \n",
       "25%                     NaN  \n",
       "50%                     NaN  \n",
       "75%                     NaN  \n",
       "max                     NaN  "
      ]
     },
     "execution_count": 135,
     "metadata": {},
     "output_type": "execute_result"
    }
   ],
   "source": [
    "autos.describe(include=\"all\")"
   ]
  },
  {
   "cell_type": "markdown",
   "metadata": {},
   "source": [
    "##### New observation: \n",
    "\n",
    "- The columns \"seller\" and \"offer_type\" have mostly one value: \"privat\" and \"Angebot\" respectively. These columns are candidates to be dropped. \n",
    "\n",
    "- Also we can change the type of the columns \"price\" and \"odometer\" to integers. Let's do that:"
   ]
  },
  {
   "cell_type": "code",
   "execution_count": 136,
   "metadata": {
    "collapsed": false
   },
   "outputs": [
    {
     "name": "stdout",
     "output_type": "stream",
     "text": [
      "Index(['date_crawled', 'name', 'seller', 'offer_type', 'price', 'abtest',\n",
      "       'vehicle_type', 'registration_year', 'gearbox', 'power_ps', 'model',\n",
      "       'odometer_km', 'registration_month', 'fuel_type', 'brand',\n",
      "       'unrepaired_damage', 'date_created', 'nr_of_pictures', 'postal_code',\n",
      "       'last_seen'],\n",
      "      dtype='object')\n"
     ]
    }
   ],
   "source": [
    "autos[\"price\"] = autos[\"price\"].str.replace(\",\",\"\")\n",
    "autos[\"price\"] = autos[\"price\"].str.replace(\"$\",\"\")\n",
    "autos[\"price\"] = autos[\"price\"].astype(int)\n",
    "\n",
    "autos[\"odometer\"] = autos[\"odometer\"].str.replace(\",\",\"\")\n",
    "autos[\"odometer\"] = autos[\"odometer\"].str.replace(\"km\",\"\")\n",
    "autos[\"odometer\"] = autos[\"odometer\"].astype(int,copy=False)\n",
    "\n",
    "autos.rename({\"odometer\":\"odometer_km\",\\\n",
    "              \"not_repaired_damage\":\"unrepaired_damage\",\\\n",
    "              \"year_of_registration\":\"registration_year\",\\\n",
    "             \"month_of_registration\":\"registration_month\"},\\\n",
    "             axis=1,inplace=True)\n",
    "print(autos.columns)"
   ]
  },
  {
   "cell_type": "code",
   "execution_count": 137,
   "metadata": {
    "collapsed": false
   },
   "outputs": [
    {
     "data": {
      "text/plain": [
       "date_crawled          object\n",
       "name                  object\n",
       "seller                object\n",
       "offer_type            object\n",
       "price                  int64\n",
       "abtest                object\n",
       "vehicle_type          object\n",
       "registration_year      int64\n",
       "gearbox               object\n",
       "power_ps               int64\n",
       "model                 object\n",
       "odometer_km            int64\n",
       "registration_month     int64\n",
       "fuel_type             object\n",
       "brand                 object\n",
       "unrepaired_damage     object\n",
       "date_created          object\n",
       "nr_of_pictures         int64\n",
       "postal_code            int64\n",
       "last_seen             object\n",
       "dtype: object"
      ]
     },
     "execution_count": 137,
     "metadata": {},
     "output_type": "execute_result"
    }
   ],
   "source": [
    "# Verification that the columns \"price\" and \"odometer\" \n",
    "# (also we changed his name to odometer_km) has changed \n",
    "# to type in64\n",
    "\n",
    "autos.dtypes"
   ]
  },
  {
   "cell_type": "code",
   "execution_count": 138,
   "metadata": {
    "collapsed": false
   },
   "outputs": [
    {
     "name": "stdout",
     "output_type": "stream",
     "text": [
      "Unique values from odometer_km column: 13\n",
      "Unique values from price column: 2357\n"
     ]
    }
   ],
   "source": [
    "print(\"Unique values from odometer_km column:\", autos[\"odometer_km\"].unique().shape[0])\n",
    "print(\"Unique values from price column:\",autos[\"price\"].unique().shape[0])"
   ]
  },
  {
   "cell_type": "markdown",
   "metadata": {},
   "source": [
    "#### <i> Let's do some statistics applying the describe() and value_counts() methods to see the behavior of the \"odometer_km\" column. <i\\>"
   ]
  },
  {
   "cell_type": "code",
   "execution_count": 139,
   "metadata": {
    "collapsed": false
   },
   "outputs": [
    {
     "data": {
      "text/plain": [
       "count     50000.000000\n",
       "mean     125732.700000\n",
       "std       40042.211706\n",
       "min        5000.000000\n",
       "25%      125000.000000\n",
       "50%      150000.000000\n",
       "75%      150000.000000\n",
       "max      150000.000000\n",
       "Name: odometer_km, dtype: float64"
      ]
     },
     "execution_count": 139,
     "metadata": {},
     "output_type": "execute_result"
    }
   ],
   "source": [
    "autos[\"odometer_km\"].describe()"
   ]
  },
  {
   "cell_type": "code",
   "execution_count": 140,
   "metadata": {
    "collapsed": false,
    "scrolled": true
   },
   "outputs": [
    {
     "data": {
      "text/plain": [
       "150000    32424\n",
       "125000     5170\n",
       "100000     2169\n",
       "90000      1757\n",
       "80000      1436\n",
       "70000      1230\n",
       "60000      1164\n",
       "50000      1027\n",
       "40000       819\n",
       "30000       789\n",
       "20000       784\n",
       "10000       264\n",
       "5000        967\n",
       "Name: odometer_km, dtype: int64"
      ]
     },
     "execution_count": 140,
     "metadata": {},
     "output_type": "execute_result"
    }
   ],
   "source": [
    "autos[\"odometer_km\"].value_counts().sort_index(ascending=False)"
   ]
  },
  {
   "cell_type": "markdown",
   "metadata": {},
   "source": [
    "#### <i> Let's do the same we do with \"odometer_km\" column to \"price\" column."
   ]
  },
  {
   "cell_type": "code",
   "execution_count": 141,
   "metadata": {
    "collapsed": false
   },
   "outputs": [
    {
     "data": {
      "text/plain": [
       "count    5.000000e+04\n",
       "mean     9.840044e+03\n",
       "std      4.811044e+05\n",
       "min      0.000000e+00\n",
       "25%      1.100000e+03\n",
       "50%      2.950000e+03\n",
       "75%      7.200000e+03\n",
       "max      1.000000e+08\n",
       "Name: price, dtype: float64"
      ]
     },
     "execution_count": 141,
     "metadata": {},
     "output_type": "execute_result"
    }
   ],
   "source": [
    "autos[\"price\"].describe()"
   ]
  },
  {
   "cell_type": "code",
   "execution_count": 142,
   "metadata": {
    "collapsed": false
   },
   "outputs": [
    {
     "data": {
      "text/plain": [
       "99999999       1\n",
       "27322222       1\n",
       "12345678       3\n",
       "11111111       2\n",
       "10000000       1\n",
       "3890000        1\n",
       "1300000        1\n",
       "1234566        1\n",
       "999999         2\n",
       "999990         1\n",
       "350000         1\n",
       "345000         1\n",
       "299000         1\n",
       "295000         1\n",
       "265000         1\n",
       "259000         1\n",
       "250000         1\n",
       "220000         1\n",
       "198000         1\n",
       "197000         1\n",
       "194000         1\n",
       "190000         1\n",
       "180000         1\n",
       "175000         1\n",
       "169999         1\n",
       "169000         1\n",
       "163991         1\n",
       "163500         1\n",
       "155000         1\n",
       "151990         1\n",
       "            ... \n",
       "66             1\n",
       "65             5\n",
       "60             9\n",
       "59             1\n",
       "55             2\n",
       "50            49\n",
       "49             4\n",
       "47             1\n",
       "45             4\n",
       "40             6\n",
       "35             1\n",
       "30             7\n",
       "29             1\n",
       "25             5\n",
       "20             4\n",
       "18             1\n",
       "17             3\n",
       "15             2\n",
       "14             1\n",
       "13             2\n",
       "12             3\n",
       "11             2\n",
       "10             7\n",
       "9              1\n",
       "8              1\n",
       "5              2\n",
       "3              1\n",
       "2              3\n",
       "1            156\n",
       "0           1421\n",
       "Name: price, Length: 2357, dtype: int64"
      ]
     },
     "execution_count": 142,
     "metadata": {},
     "output_type": "execute_result"
    }
   ],
   "source": [
    "autos[\"price\"].value_counts().sort_index(ascending=False)"
   ]
  },
  {
   "cell_type": "code",
   "execution_count": 144,
   "metadata": {
    "collapsed": false
   },
   "outputs": [
    {
     "data": {
      "text/plain": [
       "0         1421\n",
       "500        781\n",
       "1500       734\n",
       "2500       643\n",
       "1000       639\n",
       "1200       639\n",
       "600        531\n",
       "800        498\n",
       "3500       498\n",
       "2000       460\n",
       "999        434\n",
       "750        433\n",
       "900        420\n",
       "650        419\n",
       "850        410\n",
       "700        395\n",
       "4500       394\n",
       "300        384\n",
       "2200       382\n",
       "950        379\n",
       "1100       376\n",
       "1300       371\n",
       "3000       365\n",
       "550        356\n",
       "1800       355\n",
       "5500       340\n",
       "1250       335\n",
       "350        335\n",
       "1600       327\n",
       "1999       322\n",
       "          ... \n",
       "46200        1\n",
       "29600        1\n",
       "13480        1\n",
       "21700        1\n",
       "7373         1\n",
       "3279         1\n",
       "4286         1\n",
       "188          1\n",
       "17830        1\n",
       "9130         1\n",
       "910          1\n",
       "238          1\n",
       "2671         1\n",
       "69900        1\n",
       "151990       1\n",
       "2479         1\n",
       "4510         1\n",
       "86500        1\n",
       "47499        1\n",
       "16998        1\n",
       "27299        1\n",
       "41850        1\n",
       "4780         1\n",
       "686          1\n",
       "6495         1\n",
       "20790        1\n",
       "8970         1\n",
       "846          1\n",
       "2895         1\n",
       "33980        1\n",
       "Name: price, Length: 2357, dtype: int64"
      ]
     },
     "execution_count": 144,
     "metadata": {},
     "output_type": "execute_result"
    }
   ],
   "source": [
    "autos[\"price\"].value_counts()"
   ]
  },
  {
   "cell_type": "markdown",
   "metadata": {},
   "source": [
    "#### Seems that there are some outliers with extremly high and extremly lows values.\n",
    "\n",
    "Let's cut the price column between USD 50 and USD 1M dollars (1M from 1 million)"
   ]
  },
  {
   "cell_type": "code",
   "execution_count": 145,
   "metadata": {
    "collapsed": false
   },
   "outputs": [
    {
     "data": {
      "text/plain": [
       "count     48350.000000\n",
       "mean       5977.136381\n",
       "std       11983.401860\n",
       "min          50.000000\n",
       "25%        1250.000000\n",
       "50%        3000.000000\n",
       "75%        7499.000000\n",
       "max      999999.000000\n",
       "Name: price, dtype: float64"
      ]
     },
     "execution_count": 145,
     "metadata": {},
     "output_type": "execute_result"
    }
   ],
   "source": [
    "autos[autos[\"price\"].between(50,1000000)][\"price\"].describe()"
   ]
  },
  {
   "cell_type": "code",
   "execution_count": 146,
   "metadata": {
    "collapsed": false
   },
   "outputs": [
    {
     "data": {
      "text/plain": [
       "500       781\n",
       "1500      734\n",
       "2500      643\n",
       "1000      639\n",
       "1200      639\n",
       "600       531\n",
       "3500      498\n",
       "800       498\n",
       "2000      460\n",
       "999       434\n",
       "750       433\n",
       "900       420\n",
       "650       419\n",
       "850       410\n",
       "700       395\n",
       "4500      394\n",
       "300       384\n",
       "2200      382\n",
       "950       379\n",
       "1100      376\n",
       "1300      371\n",
       "3000      365\n",
       "550       356\n",
       "1800      355\n",
       "5500      340\n",
       "350       335\n",
       "1250      335\n",
       "1600      327\n",
       "1999      322\n",
       "400       321\n",
       "         ... \n",
       "9455        1\n",
       "1195        1\n",
       "755         1\n",
       "3210        1\n",
       "3178        1\n",
       "26294       1\n",
       "7240        1\n",
       "93911       1\n",
       "2986        1\n",
       "11150       1\n",
       "45949       1\n",
       "39800       1\n",
       "220000      1\n",
       "29445       1\n",
       "7280        1\n",
       "350000      1\n",
       "33499       1\n",
       "4777        1\n",
       "3122        1\n",
       "6792        1\n",
       "35450       1\n",
       "16995       1\n",
       "10830       1\n",
       "38760       1\n",
       "4649        1\n",
       "2570        1\n",
       "19550       1\n",
       "8655        1\n",
       "459         1\n",
       "22880       1\n",
       "Name: price, Length: 2325, dtype: int64"
      ]
     },
     "execution_count": 146,
     "metadata": {},
     "output_type": "execute_result"
    }
   ],
   "source": [
    "autos[autos[\"price\"].between(50,1000000)][\"price\"].\\\n",
    "value_counts()"
   ]
  },
  {
   "cell_type": "markdown",
   "metadata": {},
   "source": [
    "#### Let's do some analysis of dates in date_crawled, last_seen, and ad_created columns in date timestamp format. "
   ]
  },
  {
   "cell_type": "code",
   "execution_count": 147,
   "metadata": {
    "collapsed": false
   },
   "outputs": [
    {
     "data": {
      "text/plain": [
       "2016-03-05    0.02538\n",
       "2016-03-06    0.01394\n",
       "2016-03-07    0.03596\n",
       "2016-03-08    0.03330\n",
       "2016-03-09    0.03322\n",
       "2016-03-10    0.03212\n",
       "2016-03-11    0.03248\n",
       "2016-03-12    0.03678\n",
       "2016-03-13    0.01556\n",
       "2016-03-14    0.03662\n",
       "2016-03-15    0.03398\n",
       "2016-03-16    0.02950\n",
       "2016-03-17    0.03152\n",
       "2016-03-18    0.01306\n",
       "2016-03-19    0.03490\n",
       "2016-03-20    0.03782\n",
       "2016-03-21    0.03752\n",
       "2016-03-22    0.03294\n",
       "2016-03-23    0.03238\n",
       "2016-03-24    0.02910\n",
       "2016-03-25    0.03174\n",
       "2016-03-26    0.03248\n",
       "2016-03-27    0.03104\n",
       "2016-03-28    0.03484\n",
       "2016-03-29    0.03418\n",
       "2016-03-30    0.03362\n",
       "2016-03-31    0.03192\n",
       "2016-04-01    0.03380\n",
       "2016-04-02    0.03540\n",
       "2016-04-03    0.03868\n",
       "2016-04-04    0.03652\n",
       "2016-04-05    0.01310\n",
       "2016-04-06    0.00318\n",
       "2016-04-07    0.00142\n",
       "Name: date_crawled, dtype: float64"
      ]
     },
     "execution_count": 147,
     "metadata": {},
     "output_type": "execute_result"
    }
   ],
   "source": [
    "# DATE CRAWLED\n",
    "autos[\"date_crawled\"].str[:10].\\\n",
    "value_counts(normalize=True,dropna=False).\\\n",
    "sort_index(ascending=True)"
   ]
  },
  {
   "cell_type": "code",
   "execution_count": 148,
   "metadata": {
    "collapsed": false
   },
   "outputs": [
    {
     "data": {
      "text/plain": [
       "count    34.000000\n",
       "mean      0.029412\n",
       "std       0.009765\n",
       "min       0.001420\n",
       "25%       0.029885\n",
       "50%       0.032710\n",
       "75%       0.034885\n",
       "max       0.038680\n",
       "Name: date_crawled, dtype: float64"
      ]
     },
     "execution_count": 148,
     "metadata": {},
     "output_type": "execute_result"
    }
   ],
   "source": [
    "autos[\"date_crawled\"].str[:10].\\\n",
    "value_counts(normalize=True,dropna=False).\\\n",
    "sort_index(ascending=True).describe()"
   ]
  },
  {
   "cell_type": "markdown",
   "metadata": {},
   "source": [
    "<i> The date crawled ranges from 2016-03-05 to 2016-04-07 (1 month). Almost all the dates has around of 3% of contribution to the sample."
   ]
  },
  {
   "cell_type": "code",
   "execution_count": 149,
   "metadata": {
    "collapsed": false
   },
   "outputs": [
    {
     "data": {
      "text/plain": [
       "2016-03-05    0.00108\n",
       "2016-03-06    0.00442\n",
       "2016-03-07    0.00536\n",
       "2016-03-08    0.00760\n",
       "2016-03-09    0.00986\n",
       "2016-03-10    0.01076\n",
       "2016-03-11    0.01252\n",
       "2016-03-12    0.02382\n",
       "2016-03-13    0.00898\n",
       "2016-03-14    0.01280\n",
       "2016-03-15    0.01588\n",
       "2016-03-16    0.01644\n",
       "2016-03-17    0.02792\n",
       "2016-03-18    0.00742\n",
       "2016-03-19    0.01574\n",
       "2016-03-20    0.02070\n",
       "2016-03-21    0.02074\n",
       "2016-03-22    0.02158\n",
       "2016-03-23    0.01858\n",
       "2016-03-24    0.01956\n",
       "2016-03-25    0.01920\n",
       "2016-03-26    0.01696\n",
       "2016-03-27    0.01602\n",
       "2016-03-28    0.02086\n",
       "2016-03-29    0.02234\n",
       "2016-03-30    0.02484\n",
       "2016-03-31    0.02384\n",
       "2016-04-01    0.02310\n",
       "2016-04-02    0.02490\n",
       "2016-04-03    0.02536\n",
       "2016-04-04    0.02462\n",
       "2016-04-05    0.12428\n",
       "2016-04-06    0.22100\n",
       "2016-04-07    0.13092\n",
       "Name: last_seen, dtype: float64"
      ]
     },
     "execution_count": 149,
     "metadata": {},
     "output_type": "execute_result"
    }
   ],
   "source": [
    "# LAST SEEN\n",
    "autos[\"last_seen\"].str[:10].\\\n",
    "value_counts(normalize=True,dropna=False).\\\n",
    "sort_index(ascending=True)"
   ]
  },
  {
   "cell_type": "code",
   "execution_count": 150,
   "metadata": {
    "collapsed": false,
    "scrolled": true
   },
   "outputs": [
    {
     "data": {
      "text/plain": [
       "count    34.000000\n",
       "mean      0.029412\n",
       "std       0.043483\n",
       "min       0.001080\n",
       "25%       0.012590\n",
       "50%       0.019380\n",
       "75%       0.023835\n",
       "max       0.221000\n",
       "Name: last_seen, dtype: float64"
      ]
     },
     "execution_count": 150,
     "metadata": {},
     "output_type": "execute_result"
    }
   ],
   "source": [
    "autos[\"last_seen\"].str[:10].\\\n",
    "value_counts(normalize=True,dropna=False).\\\n",
    "sort_index(ascending=True).describe()"
   ]
  },
  {
   "cell_type": "markdown",
   "metadata": {},
   "source": [
    "The last seen column also ranges from 2016-03-05 to 2016-04-07 (1 month). \n",
    "\n",
    "#### Now we can see that the behavior of the values in last_seen columns change.\n",
    "\n",
    "The mean is almost 3% but its no representative because the followings are outliers:\n",
    "2016-04-05    0.12428\n",
    "2016-04-06    0.22100\n",
    "2016-04-07    0.13092\n",
    "\n",
    "Apparently on April 7th they produced the 22.1% of the \"last seen\" of the ad. This is like 10 times most frequent that the other 31 dates. \n"
   ]
  },
  {
   "cell_type": "code",
   "execution_count": 151,
   "metadata": {
    "collapsed": false
   },
   "outputs": [
    {
     "data": {
      "text/plain": [
       "2015-06-11    0.00002\n",
       "2015-08-10    0.00002\n",
       "2015-09-09    0.00002\n",
       "2015-11-10    0.00002\n",
       "2015-12-05    0.00002\n",
       "2015-12-30    0.00002\n",
       "2016-01-03    0.00002\n",
       "2016-01-07    0.00002\n",
       "2016-01-10    0.00004\n",
       "2016-01-13    0.00002\n",
       "2016-01-14    0.00002\n",
       "2016-01-16    0.00002\n",
       "2016-01-22    0.00002\n",
       "2016-01-27    0.00006\n",
       "2016-01-29    0.00002\n",
       "2016-02-01    0.00002\n",
       "2016-02-02    0.00004\n",
       "2016-02-05    0.00004\n",
       "2016-02-07    0.00002\n",
       "2016-02-08    0.00002\n",
       "2016-02-09    0.00004\n",
       "2016-02-11    0.00002\n",
       "2016-02-12    0.00006\n",
       "2016-02-14    0.00004\n",
       "2016-02-16    0.00002\n",
       "2016-02-17    0.00002\n",
       "2016-02-18    0.00004\n",
       "2016-02-19    0.00006\n",
       "2016-02-20    0.00004\n",
       "2016-02-21    0.00006\n",
       "               ...   \n",
       "2016-03-09    0.03324\n",
       "2016-03-10    0.03186\n",
       "2016-03-11    0.03278\n",
       "2016-03-12    0.03662\n",
       "2016-03-13    0.01692\n",
       "2016-03-14    0.03522\n",
       "2016-03-15    0.03374\n",
       "2016-03-16    0.03000\n",
       "2016-03-17    0.03120\n",
       "2016-03-18    0.01372\n",
       "2016-03-19    0.03384\n",
       "2016-03-20    0.03786\n",
       "2016-03-21    0.03772\n",
       "2016-03-22    0.03280\n",
       "2016-03-23    0.03218\n",
       "2016-03-24    0.02908\n",
       "2016-03-25    0.03188\n",
       "2016-03-26    0.03256\n",
       "2016-03-27    0.03090\n",
       "2016-03-28    0.03496\n",
       "2016-03-29    0.03414\n",
       "2016-03-30    0.03344\n",
       "2016-03-31    0.03192\n",
       "2016-04-01    0.03380\n",
       "2016-04-02    0.03508\n",
       "2016-04-03    0.03892\n",
       "2016-04-04    0.03688\n",
       "2016-04-05    0.01184\n",
       "2016-04-06    0.00326\n",
       "2016-04-07    0.00128\n",
       "Name: date_created, Length: 76, dtype: float64"
      ]
     },
     "execution_count": 151,
     "metadata": {},
     "output_type": "execute_result"
    }
   ],
   "source": [
    "#DATE CREATED \n",
    "autos[\"date_created\"].str[:10].\\\n",
    "value_counts(normalize=True,dropna=False).\\\n",
    "sort_index(ascending=True)"
   ]
  },
  {
   "cell_type": "code",
   "execution_count": 152,
   "metadata": {
    "collapsed": false
   },
   "outputs": [
    {
     "data": {
      "text/plain": [
       "count    76.000000\n",
       "mean      0.013158\n",
       "std       0.015958\n",
       "min       0.000020\n",
       "25%       0.000020\n",
       "50%       0.000140\n",
       "75%       0.032275\n",
       "max       0.038920\n",
       "Name: date_created, dtype: float64"
      ]
     },
     "execution_count": 152,
     "metadata": {},
     "output_type": "execute_result"
    }
   ],
   "source": [
    "autos[\"date_created\"].str[:10].\\\n",
    "value_counts(normalize=True,dropna=False).\\\n",
    "sort_index(ascending=True).describe()"
   ]
  },
  {
   "cell_type": "markdown",
   "metadata": {
    "collapsed": true
   },
   "source": [
    "The date crawled ranges from 2015-06-11 to 2016-04-07 (almost 1 year). \n",
    "\n",
    "In the case of \"date created\" there are to low percentages until the 75th (not included). After the 75th percentile wich increse the rate up to 3.2% close to the max value of 3.9%."
   ]
  },
  {
   "cell_type": "code",
   "execution_count": 153,
   "metadata": {
    "collapsed": false
   },
   "outputs": [
    {
     "data": {
      "text/plain": [
       "count    50000.000000\n",
       "mean      2005.073280\n",
       "std        105.712813\n",
       "min       1000.000000\n",
       "25%       1999.000000\n",
       "50%       2003.000000\n",
       "75%       2008.000000\n",
       "max       9999.000000\n",
       "Name: registration_year, dtype: float64"
      ]
     },
     "execution_count": 153,
     "metadata": {},
     "output_type": "execute_result"
    }
   ],
   "source": [
    "#REGISTRATION YEAR OF THE CAR\n",
    "autos[\"registration_year\"].describe()"
   ]
  },
  {
   "cell_type": "markdown",
   "metadata": {},
   "source": [
    "#### Again seems that bad data is included, there can't be a car registered in the year 1000 or 9999. Clearly these are errors in the data. Debido a esto podemos establecer los dos límites de años de registro de una manera razonable:\n",
    "\n",
    "- El primer automóvil no puede registrarse antes de que comience la industria del automóvil, alrededor del 1900.\n",
    "- El último automóvil registrado no puede exceder el año de 2016 porque no se puede hacer un registro de un automóvil sin haberlo visto aún."
   ]
  },
  {
   "cell_type": "code",
   "execution_count": 154,
   "metadata": {
    "collapsed": false
   },
   "outputs": [
    {
     "data": {
      "text/plain": [
       "2000    0.069834\n",
       "2005    0.062776\n",
       "1999    0.062464\n",
       "2004    0.056988\n",
       "2003    0.056779\n",
       "2006    0.056384\n",
       "2001    0.056280\n",
       "2002    0.052740\n",
       "1998    0.051074\n",
       "2007    0.047972\n",
       "2008    0.046452\n",
       "2009    0.043683\n",
       "1997    0.042225\n",
       "2011    0.034022\n",
       "2010    0.033251\n",
       "1996    0.030066\n",
       "2012    0.027546\n",
       "2016    0.027401\n",
       "1995    0.027338\n",
       "2013    0.016782\n",
       "2014    0.013867\n",
       "1994    0.013742\n",
       "1993    0.009265\n",
       "2015    0.008308\n",
       "1990    0.008224\n",
       "1992    0.008141\n",
       "1991    0.007412\n",
       "1989    0.003769\n",
       "1988    0.002957\n",
       "1985    0.002186\n",
       "          ...   \n",
       "1966    0.000458\n",
       "1977    0.000458\n",
       "1975    0.000396\n",
       "1969    0.000396\n",
       "1965    0.000354\n",
       "1964    0.000250\n",
       "1910    0.000187\n",
       "1963    0.000187\n",
       "1959    0.000146\n",
       "1961    0.000125\n",
       "1956    0.000104\n",
       "1958    0.000083\n",
       "1937    0.000083\n",
       "1962    0.000083\n",
       "1950    0.000062\n",
       "1954    0.000042\n",
       "1941    0.000042\n",
       "1934    0.000042\n",
       "1957    0.000042\n",
       "1951    0.000042\n",
       "1955    0.000042\n",
       "1931    0.000021\n",
       "1953    0.000021\n",
       "1943    0.000021\n",
       "1938    0.000021\n",
       "1939    0.000021\n",
       "1927    0.000021\n",
       "1929    0.000021\n",
       "1948    0.000021\n",
       "1952    0.000021\n",
       "Name: registration_year, Length: 78, dtype: float64"
      ]
     },
     "execution_count": 154,
     "metadata": {},
     "output_type": "execute_result"
    }
   ],
   "source": [
    "autos[autos[\"registration_year\"].\\\n",
    "between(1900,2016)][\"registration_year\"].\\\n",
    "value_counts(normalize=True)"
   ]
  },
  {
   "cell_type": "code",
   "execution_count": 155,
   "metadata": {
    "collapsed": false
   },
   "outputs": [
    {
     "data": {
      "text/plain": [
       "1910    0.000187\n",
       "1927    0.000021\n",
       "1929    0.000021\n",
       "1931    0.000021\n",
       "1934    0.000042\n",
       "1937    0.000083\n",
       "1938    0.000021\n",
       "1939    0.000021\n",
       "1941    0.000042\n",
       "1943    0.000021\n",
       "1948    0.000021\n",
       "1950    0.000062\n",
       "1951    0.000042\n",
       "1952    0.000021\n",
       "1953    0.000021\n",
       "1954    0.000042\n",
       "1955    0.000042\n",
       "1956    0.000104\n",
       "1957    0.000042\n",
       "1958    0.000083\n",
       "1959    0.000146\n",
       "1960    0.000708\n",
       "1961    0.000125\n",
       "1962    0.000083\n",
       "1963    0.000187\n",
       "1964    0.000250\n",
       "1965    0.000354\n",
       "1966    0.000458\n",
       "1967    0.000562\n",
       "1968    0.000541\n",
       "          ...   \n",
       "1987    0.001562\n",
       "1988    0.002957\n",
       "1989    0.003769\n",
       "1990    0.008224\n",
       "1991    0.007412\n",
       "1992    0.008141\n",
       "1993    0.009265\n",
       "1994    0.013742\n",
       "1995    0.027338\n",
       "1996    0.030066\n",
       "1997    0.042225\n",
       "1998    0.051074\n",
       "1999    0.062464\n",
       "2000    0.069834\n",
       "2001    0.056280\n",
       "2002    0.052740\n",
       "2003    0.056779\n",
       "2004    0.056988\n",
       "2005    0.062776\n",
       "2006    0.056384\n",
       "2007    0.047972\n",
       "2008    0.046452\n",
       "2009    0.043683\n",
       "2010    0.033251\n",
       "2011    0.034022\n",
       "2012    0.027546\n",
       "2013    0.016782\n",
       "2014    0.013867\n",
       "2015    0.008308\n",
       "2016    0.027401\n",
       "Name: registration_year, Length: 78, dtype: float64"
      ]
     },
     "execution_count": 155,
     "metadata": {},
     "output_type": "execute_result"
    }
   ],
   "source": [
    "autos[autos[\"registration_year\"].\\\n",
    "between(1900,2016)][\"registration_year\"].\\\n",
    "value_counts(normalize=True).sort_index(ascending=True)"
   ]
  },
  {
   "cell_type": "markdown",
   "metadata": {},
   "source": [
    "##### First look on registration year column:\n",
    "\n",
    "- We can see that in the middle of the 90's the registration of cars accelerate up to 2005. One possible explanation is the explosion of electronic commerce in that year. \n",
    "\n",
    "- The reason for the decline in the records after 2005 (but still a high percentage) may be that the large number of cars registered since the 94s were re-sold on the same platform very effectively. All this could had an impact on the sales of new cars.  \n",
    "\n",
    "#### Now we can do some analysis in the brand column:"
   ]
  },
  {
   "cell_type": "code",
   "execution_count": 156,
   "metadata": {
    "collapsed": false
   },
   "outputs": [
    {
     "data": {
      "text/plain": [
       "array(['peugeot', 'bmw', 'volkswagen', 'smart', 'ford', 'chrysler',\n",
       "       'seat', 'renault', 'mercedes_benz', 'audi', 'sonstige_autos',\n",
       "       'opel', 'mazda', 'porsche', 'mini', 'toyota', 'dacia', 'nissan',\n",
       "       'jeep', 'saab', 'volvo', 'mitsubishi', 'jaguar', 'fiat', 'skoda',\n",
       "       'subaru', 'kia', 'citroen', 'chevrolet', 'hyundai', 'honda',\n",
       "       'daewoo', 'suzuki', 'trabant', 'land_rover', 'alfa_romeo', 'lada',\n",
       "       'rover', 'daihatsu', 'lancia'], dtype=object)"
      ]
     },
     "execution_count": 156,
     "metadata": {},
     "output_type": "execute_result"
    }
   ],
   "source": [
    "autos[\"brand\"].unique()"
   ]
  },
  {
   "cell_type": "code",
   "execution_count": 157,
   "metadata": {
    "collapsed": false
   },
   "outputs": [
    {
     "data": {
      "text/plain": [
       "volkswagen        10687\n",
       "opel               5461\n",
       "bmw                5429\n",
       "mercedes_benz      4734\n",
       "audi               4283\n",
       "ford               3479\n",
       "renault            2404\n",
       "peugeot            1456\n",
       "fiat               1308\n",
       "seat                941\n",
       "skoda               786\n",
       "mazda               757\n",
       "nissan              754\n",
       "smart               701\n",
       "citroen             701\n",
       "toyota              617\n",
       "sonstige_autos      546\n",
       "hyundai             488\n",
       "volvo               457\n",
       "mini                424\n",
       "Name: brand, dtype: int64"
      ]
     },
     "execution_count": 157,
     "metadata": {},
     "output_type": "execute_result"
    }
   ],
   "source": [
    "autos[\"brand\"].value_counts().head(20)"
   ]
  },
  {
   "cell_type": "code",
   "execution_count": 158,
   "metadata": {
    "collapsed": false
   },
   "outputs": [],
   "source": [
    "brands = autos[\"brand\"].value_counts().head(20).index.tolist()"
   ]
  },
  {
   "cell_type": "markdown",
   "metadata": {},
   "source": [
    "#### The brands have been classified in number of ads. Then, in the list of brands, there are 20 top brands.\n"
   ]
  },
  {
   "cell_type": "code",
   "execution_count": 180,
   "metadata": {
    "collapsed": false
   },
   "outputs": [
    {
     "name": "stdout",
     "output_type": "stream",
     "text": [
      "{'seat': 4710.0, 'hyundai': 5695.0, 'peugeot': 3329.0, 'mercedes_benz': 8670.0, 'skoda': 6540.0, 'opel': 3349.0, 'sonstige_autos': 13201.0, 'renault': 2761.0, 'citroen': 3995.0, 'audi': 9484.0, 'fiat': 3212.0, 'ford': 4267.0, 'nissan': 5077.0, 'mini': 10617.0, 'mazda': 4392.0, 'bmw': 8515.0, 'smart': 3552.0, 'toyota': 5244.0, 'volvo': 5111.0, 'volkswagen': 5701.0}\n"
     ]
    }
   ],
   "source": [
    "# the price bounds for this analysis are chosen between (500,500.000)\n",
    "grouped_brands_prices = {}\n",
    "autos_reasonable_prices = autos[autos[\"price\"].\\\n",
    "    between(500,500000)]\n",
    "for brand in brands:\n",
    "    grouped_brands_prices[brand] = autos_reasonable_prices\\\n",
    "    [autos_reasonable_prices[\"brand\"]==brand]\\\n",
    "    [\"price\"].mean().round(0)\n",
    "    \n",
    "print(grouped_brands_prices)\n",
    "\n",
    "average_price_brand = pd.DataFrame(columns = [\"brand\",\"avg_price\"])\n",
    "i=0\n",
    "for k,v in grouped_brands_prices.items():\n",
    "    average_price_brand.loc[i,\"brand\"] = k\n",
    "    average_price_brand.loc[i,\"avg_price\"] = v\n",
    "    i += 1"
   ]
  },
  {
   "cell_type": "code",
   "execution_count": 181,
   "metadata": {
    "collapsed": true
   },
   "outputs": [
    {
     "data": {
      "text/html": [
       "<div>\n",
       "<style scoped>\n",
       "    .dataframe tbody tr th:only-of-type {\n",
       "        vertical-align: middle;\n",
       "    }\n",
       "\n",
       "    .dataframe tbody tr th {\n",
       "        vertical-align: top;\n",
       "    }\n",
       "\n",
       "    .dataframe thead th {\n",
       "        text-align: right;\n",
       "    }\n",
       "</style>\n",
       "<table border=\"1\" class=\"dataframe\">\n",
       "  <thead>\n",
       "    <tr style=\"text-align: right;\">\n",
       "      <th></th>\n",
       "      <th>brand</th>\n",
       "      <th>avg_price</th>\n",
       "    </tr>\n",
       "  </thead>\n",
       "  <tbody>\n",
       "    <tr>\n",
       "      <th>6</th>\n",
       "      <td>sonstige_autos</td>\n",
       "      <td>13201</td>\n",
       "    </tr>\n",
       "    <tr>\n",
       "      <th>13</th>\n",
       "      <td>mini</td>\n",
       "      <td>10617</td>\n",
       "    </tr>\n",
       "    <tr>\n",
       "      <th>9</th>\n",
       "      <td>audi</td>\n",
       "      <td>9484</td>\n",
       "    </tr>\n",
       "    <tr>\n",
       "      <th>3</th>\n",
       "      <td>mercedes_benz</td>\n",
       "      <td>8670</td>\n",
       "    </tr>\n",
       "    <tr>\n",
       "      <th>15</th>\n",
       "      <td>bmw</td>\n",
       "      <td>8515</td>\n",
       "    </tr>\n",
       "    <tr>\n",
       "      <th>4</th>\n",
       "      <td>skoda</td>\n",
       "      <td>6540</td>\n",
       "    </tr>\n",
       "    <tr>\n",
       "      <th>19</th>\n",
       "      <td>volkswagen</td>\n",
       "      <td>5701</td>\n",
       "    </tr>\n",
       "    <tr>\n",
       "      <th>1</th>\n",
       "      <td>hyundai</td>\n",
       "      <td>5695</td>\n",
       "    </tr>\n",
       "    <tr>\n",
       "      <th>17</th>\n",
       "      <td>toyota</td>\n",
       "      <td>5244</td>\n",
       "    </tr>\n",
       "    <tr>\n",
       "      <th>18</th>\n",
       "      <td>volvo</td>\n",
       "      <td>5111</td>\n",
       "    </tr>\n",
       "    <tr>\n",
       "      <th>12</th>\n",
       "      <td>nissan</td>\n",
       "      <td>5077</td>\n",
       "    </tr>\n",
       "    <tr>\n",
       "      <th>0</th>\n",
       "      <td>seat</td>\n",
       "      <td>4710</td>\n",
       "    </tr>\n",
       "    <tr>\n",
       "      <th>14</th>\n",
       "      <td>mazda</td>\n",
       "      <td>4392</td>\n",
       "    </tr>\n",
       "    <tr>\n",
       "      <th>11</th>\n",
       "      <td>ford</td>\n",
       "      <td>4267</td>\n",
       "    </tr>\n",
       "    <tr>\n",
       "      <th>8</th>\n",
       "      <td>citroen</td>\n",
       "      <td>3995</td>\n",
       "    </tr>\n",
       "    <tr>\n",
       "      <th>16</th>\n",
       "      <td>smart</td>\n",
       "      <td>3552</td>\n",
       "    </tr>\n",
       "    <tr>\n",
       "      <th>5</th>\n",
       "      <td>opel</td>\n",
       "      <td>3349</td>\n",
       "    </tr>\n",
       "    <tr>\n",
       "      <th>2</th>\n",
       "      <td>peugeot</td>\n",
       "      <td>3329</td>\n",
       "    </tr>\n",
       "    <tr>\n",
       "      <th>10</th>\n",
       "      <td>fiat</td>\n",
       "      <td>3212</td>\n",
       "    </tr>\n",
       "    <tr>\n",
       "      <th>7</th>\n",
       "      <td>renault</td>\n",
       "      <td>2761</td>\n",
       "    </tr>\n",
       "  </tbody>\n",
       "</table>\n",
       "</div>"
      ],
      "text/plain": [
       "             brand avg_price\n",
       "6   sonstige_autos     13201\n",
       "13            mini     10617\n",
       "9             audi      9484\n",
       "3    mercedes_benz      8670\n",
       "15             bmw      8515\n",
       "4            skoda      6540\n",
       "19      volkswagen      5701\n",
       "1          hyundai      5695\n",
       "17          toyota      5244\n",
       "18           volvo      5111\n",
       "12          nissan      5077\n",
       "0             seat      4710\n",
       "14           mazda      4392\n",
       "11            ford      4267\n",
       "8          citroen      3995\n",
       "16           smart      3552\n",
       "5             opel      3349\n",
       "2          peugeot      3329\n",
       "10            fiat      3212\n",
       "7          renault      2761"
      ]
     },
     "execution_count": 181,
     "metadata": {},
     "output_type": "execute_result"
    }
   ],
   "source": [
    "\n",
    "average_price_brand.sort_values(by=\"avg_price\",ascending=False)"
   ]
  },
  {
   "cell_type": "code",
   "execution_count": 188,
   "metadata": {
    "collapsed": true
   },
   "outputs": [
    {
     "name": "stdout",
     "output_type": "stream",
     "text": [
      "{'seat': 122061.64, 'hyundai': 106782.79, 'peugeot': 127352.34, 'mercedes_benz': 130886.14, 'skoda': 110947.84, 'opel': 129298.66, 'sonstige_autos': 87188.64, 'renault': 128223.79, 'citroen': 119764.62, 'audi': 129643.94, 'fiat': 117037.46, 'ford': 124131.93, 'nissan': 118978.78, 'mini': 89375.0, 'mazda': 125132.1, 'bmw': 132521.64, 'smart': 100756.06, 'toyota': 115988.65, 'volvo': 138632.39, 'volkswagen': 128955.27}\n"
     ]
    },
    {
     "data": {
      "text/html": [
       "<div>\n",
       "<style scoped>\n",
       "    .dataframe tbody tr th:only-of-type {\n",
       "        vertical-align: middle;\n",
       "    }\n",
       "\n",
       "    .dataframe tbody tr th {\n",
       "        vertical-align: top;\n",
       "    }\n",
       "\n",
       "    .dataframe thead th {\n",
       "        text-align: right;\n",
       "    }\n",
       "</style>\n",
       "<table border=\"1\" class=\"dataframe\">\n",
       "  <thead>\n",
       "    <tr style=\"text-align: right;\">\n",
       "      <th></th>\n",
       "      <th>brand_mean_prices</th>\n",
       "      <th>brand_mean_mileage</th>\n",
       "    </tr>\n",
       "  </thead>\n",
       "  <tbody>\n",
       "    <tr>\n",
       "      <th>audi</th>\n",
       "      <td>9484.0</td>\n",
       "      <td>129643.94</td>\n",
       "    </tr>\n",
       "    <tr>\n",
       "      <th>bmw</th>\n",
       "      <td>8515.0</td>\n",
       "      <td>132521.64</td>\n",
       "    </tr>\n",
       "    <tr>\n",
       "      <th>citroen</th>\n",
       "      <td>3995.0</td>\n",
       "      <td>119764.62</td>\n",
       "    </tr>\n",
       "    <tr>\n",
       "      <th>fiat</th>\n",
       "      <td>3212.0</td>\n",
       "      <td>117037.46</td>\n",
       "    </tr>\n",
       "    <tr>\n",
       "      <th>ford</th>\n",
       "      <td>4267.0</td>\n",
       "      <td>124131.93</td>\n",
       "    </tr>\n",
       "    <tr>\n",
       "      <th>hyundai</th>\n",
       "      <td>5695.0</td>\n",
       "      <td>106782.79</td>\n",
       "    </tr>\n",
       "    <tr>\n",
       "      <th>mazda</th>\n",
       "      <td>4392.0</td>\n",
       "      <td>125132.10</td>\n",
       "    </tr>\n",
       "    <tr>\n",
       "      <th>mercedes_benz</th>\n",
       "      <td>8670.0</td>\n",
       "      <td>130886.14</td>\n",
       "    </tr>\n",
       "    <tr>\n",
       "      <th>mini</th>\n",
       "      <td>10617.0</td>\n",
       "      <td>89375.00</td>\n",
       "    </tr>\n",
       "    <tr>\n",
       "      <th>nissan</th>\n",
       "      <td>5077.0</td>\n",
       "      <td>118978.78</td>\n",
       "    </tr>\n",
       "    <tr>\n",
       "      <th>opel</th>\n",
       "      <td>3349.0</td>\n",
       "      <td>129298.66</td>\n",
       "    </tr>\n",
       "    <tr>\n",
       "      <th>peugeot</th>\n",
       "      <td>3329.0</td>\n",
       "      <td>127352.34</td>\n",
       "    </tr>\n",
       "    <tr>\n",
       "      <th>renault</th>\n",
       "      <td>2761.0</td>\n",
       "      <td>128223.79</td>\n",
       "    </tr>\n",
       "    <tr>\n",
       "      <th>seat</th>\n",
       "      <td>4710.0</td>\n",
       "      <td>122061.64</td>\n",
       "    </tr>\n",
       "    <tr>\n",
       "      <th>skoda</th>\n",
       "      <td>6540.0</td>\n",
       "      <td>110947.84</td>\n",
       "    </tr>\n",
       "    <tr>\n",
       "      <th>smart</th>\n",
       "      <td>3552.0</td>\n",
       "      <td>100756.06</td>\n",
       "    </tr>\n",
       "    <tr>\n",
       "      <th>sonstige_autos</th>\n",
       "      <td>13201.0</td>\n",
       "      <td>87188.64</td>\n",
       "    </tr>\n",
       "    <tr>\n",
       "      <th>toyota</th>\n",
       "      <td>5244.0</td>\n",
       "      <td>115988.65</td>\n",
       "    </tr>\n",
       "    <tr>\n",
       "      <th>volkswagen</th>\n",
       "      <td>5701.0</td>\n",
       "      <td>128955.27</td>\n",
       "    </tr>\n",
       "    <tr>\n",
       "      <th>volvo</th>\n",
       "      <td>5111.0</td>\n",
       "      <td>138632.39</td>\n",
       "    </tr>\n",
       "  </tbody>\n",
       "</table>\n",
       "</div>"
      ],
      "text/plain": [
       "                brand_mean_prices  brand_mean_mileage\n",
       "audi                       9484.0           129643.94\n",
       "bmw                        8515.0           132521.64\n",
       "citroen                    3995.0           119764.62\n",
       "fiat                       3212.0           117037.46\n",
       "ford                       4267.0           124131.93\n",
       "hyundai                    5695.0           106782.79\n",
       "mazda                      4392.0           125132.10\n",
       "mercedes_benz              8670.0           130886.14\n",
       "mini                      10617.0            89375.00\n",
       "nissan                     5077.0           118978.78\n",
       "opel                       3349.0           129298.66\n",
       "peugeot                    3329.0           127352.34\n",
       "renault                    2761.0           128223.79\n",
       "seat                       4710.0           122061.64\n",
       "skoda                      6540.0           110947.84\n",
       "smart                      3552.0           100756.06\n",
       "sonstige_autos            13201.0            87188.64\n",
       "toyota                     5244.0           115988.65\n",
       "volkswagen                 5701.0           128955.27\n",
       "volvo                      5111.0           138632.39"
      ]
     },
     "execution_count": 188,
     "metadata": {},
     "output_type": "execute_result"
    }
   ],
   "source": [
    "# there aren't bounds for km since the column\n",
    "# has reasonable values\n",
    "\n",
    "grouped_brands_mileage = {}\n",
    "autos_reasonable_km = autos\n",
    "for brand in brands:\n",
    "    grouped_brands_mileage[brand] = autos_reasonable_km\\\n",
    "    [autos_reasonable_km[\"brand\"]==brand]\\\n",
    "    [\"odometer_km\"].mean().round(2)\n",
    "    \n",
    "print(grouped_brands_mileage)\n",
    "\n",
    "\n",
    "bmp_series = pd.Series(grouped_brands_prices)\n",
    "bmk_series = pd.Series(grouped_brands_mileage)\n",
    "\n",
    "df = pd.DataFrame(bmp_series,columns=[\"brand_mean_prices\"])\n",
    "df[\"brand_mean_mileage\"] = bmk_series\n",
    "\n",
    "df"
   ]
  },
  {
   "cell_type": "markdown",
   "metadata": {},
   "source": [
    "#### Prices and Odometer: \n",
    "\n",
    "<i> Seems that while we looking only in the ranking of prices we can conclude incorrectly that sonstige_autos with an average price of 13.201 dollars they have an average mileage of 87.188 km.<i\\>\n",
    "\n",
    "Instead Mercedes Benz for example has an average price of 8670 dollars (less than sonstige_autos) but an average mileage of 130886 km. We need to go further in the analysis and looks for any correlations. But for now is enought for a basic analysis. \n",
    "<i\\>"
   ]
  },
  {
   "cell_type": "code",
   "execution_count": 190,
   "metadata": {
    "collapsed": true
   },
   "outputs": [
    {
     "data": {
      "text/plain": [
       "Index(['date_crawled', 'name', 'seller', 'offer_type', 'price', 'abtest',\n",
       "       'vehicle_type', 'registration_year', 'gearbox', 'power_ps', 'model',\n",
       "       'odometer_km', 'registration_month', 'fuel_type', 'brand',\n",
       "       'unrepaired_damage', 'date_created', 'nr_of_pictures', 'postal_code',\n",
       "       'last_seen'],\n",
       "      dtype='object')"
      ]
     },
     "execution_count": 190,
     "metadata": {},
     "output_type": "execute_result"
    }
   ],
   "source": [
    "autos.columns"
   ]
  },
  {
   "cell_type": "markdown",
   "metadata": {},
   "source": [
    "##### Finding the most common brand/model combination:"
   ]
  },
  {
   "cell_type": "code",
   "execution_count": 243,
   "metadata": {
    "collapsed": true
   },
   "outputs": [
    {
     "data": {
      "text/plain": [
       "audi                   a4\n",
       "bmw                   3er\n",
       "citroen            andere\n",
       "fiat                punto\n",
       "ford                focus\n",
       "hyundai           i_reihe\n",
       "mazda             3_reihe\n",
       "mercedes_benz    c_klasse\n",
       "mini               cooper\n",
       "nissan              micra\n",
       "opel                corsa\n",
       "peugeot           2_reihe\n",
       "renault            twingo\n",
       "seat                ibiza\n",
       "skoda             octavia\n",
       "smart              fortwo\n",
       "toyota              yaris\n",
       "volkswagen           golf\n",
       "volvo                 v40\n",
       "dtype: object"
      ]
     },
     "execution_count": 243,
     "metadata": {},
     "output_type": "execute_result"
    }
   ],
   "source": [
    "grouped_brands_models = {}\n",
    "\n",
    "for brand in brands:\n",
    "    try:\n",
    "        brand_model = autos.loc[autos[\"brand\"]==brand][\"model\"].\\\n",
    "    value_counts().index[0]\n",
    "        grouped_brands_models[brand]=brand_model\n",
    "    except: continue\n",
    "        \n",
    "mb_series = pd.Series(grouped_brands_models)\n",
    "mb_series"
   ]
  },
  {
   "cell_type": "code",
   "execution_count": null,
   "metadata": {
    "collapsed": true
   },
   "outputs": [],
   "source": []
  }
 ],
 "metadata": {
  "kernelspec": {
   "display_name": "Python 3",
   "language": "python",
   "name": "python3"
  },
  "language_info": {
   "codemirror_mode": {
    "name": "ipython",
    "version": 3
   },
   "file_extension": ".py",
   "mimetype": "text/x-python",
   "name": "python",
   "nbconvert_exporter": "python",
   "pygments_lexer": "ipython3",
   "version": "3.4.3"
  }
 },
 "nbformat": 4,
 "nbformat_minor": 2
}
